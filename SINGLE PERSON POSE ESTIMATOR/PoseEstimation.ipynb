{
 "cells": [
  {
   "cell_type": "markdown",
   "id": "3df13cf4-e7ed-4c11-91fd-22144812c861",
   "metadata": {},
   "source": [
    "# Installation and importing dependencies"
   ]
  },
  {
   "cell_type": "code",
   "execution_count": 171,
   "id": "2285f371-06e2-4f11-b73d-c7b5a7952ec6",
   "metadata": {},
   "outputs": [],
   "source": [
    "# pip install tensorflow==2.4.1 tensoflow-gpu==2.4.1 opencv-python matplotlib"
   ]
  },
  {
   "cell_type": "markdown",
   "id": "b1e84193-4dd2-4e64-ae16-1617d6245204",
   "metadata": {},
   "source": [
    "# load model"
   ]
  },
  {
   "cell_type": "code",
   "execution_count": 1,
   "id": "f8d16bad-a7bb-473f-9c3d-df61208fbfc6",
   "metadata": {},
   "outputs": [],
   "source": [
    "\n",
    "import numpy as np\n",
    "import matplotlib.pyplot as plt\n",
    "import cv2 as cv\n",
    "import tensorflow as tf\n",
    "import os"
   ]
  },
  {
   "cell_type": "code",
   "execution_count": 33,
   "id": "ada0dd54-0d69-4d20-ad4c-ab32c51dcb34",
   "metadata": {},
   "outputs": [],
   "source": [
    "model_path = '3.tflite'\n",
    "interpreter = tf.lite.Interpreter(model_path=model_path)\n",
    "interpreter.allocate_tensors()"
   ]
  },
  {
   "cell_type": "code",
   "execution_count": 180,
   "id": "65ff5916-0fee-47c0-89d4-83d873c1e125",
   "metadata": {},
   "outputs": [],
   "source": [
    "cap = cv.VideoCapture(0)\n",
    "\n",
    "while cap.isOpened():\n",
    "    ret, frame = cap.read()\n",
    "    #### Input and resizing\n",
    "    image = frame.copy()\n",
    "    image = tf.image.resize_with_pad(np.expand_dims(image,axis=0),192,192)\n",
    "    image = tf.cast(image,dtype=tf.float32)\n",
    "\n",
    "    ### set output and input\n",
    "    input_details = interpreter.get_input_details()\n",
    "    output_details = interpreter.get_output_details()\n",
    "\n",
    "    #make Predictions\n",
    "    interpreter.set_tensor(input_details[0]['index'], np.array(image))\n",
    "    interpreter.invoke()\n",
    "    keypoints_with_scores = interpreter.get_tensor(output_details[0]['index'])\n",
    "\n",
    "    ## PREDICTION WITH PERSON\n",
    "    draw_keypoints_connections(frame,keypoints_with_scores,EDGES,0.4)\n",
    "    detect_keypoints(frame,keypoints_with_scores,0.4)\n",
    "    cv.imshow(\"DISCO FRAME POINT\", frame)\n",
    "\n",
    "    ##MASKED PREDICTION\n",
    "    # image = np.zeros(frame.shape)\n",
    "    # draw_keypoints_connections(image,keypoints_with_scores,EDGES,0.4)\n",
    "    # detect_keypoints(image,keypoints_with_scores,0.4)\n",
    "    # cv.imshow(\"DISCO FRAME POINT\", image)\n",
    "   \n",
    "    if cv.waitKey(10) & 0xFF == ord('q'):\n",
    "        break\n",
    "\n",
    "cap.release()\n",
    "cv.destroyAllWindows()"
   ]
  },
  {
   "cell_type": "code",
   "execution_count": 182,
   "id": "7351581f-a8e2-467b-9fc1-826e0ae52101",
   "metadata": {},
   "outputs": [
    {
     "name": "stdout",
     "output_type": "stream",
     "text": [
      "< cv2.VideoCapture 00000214295BFC90>\n"
     ]
    }
   ],
   "source": [
    "cap = cv.VideoCapture(\"people_running.mp4\")"
   ]
  },
  {
   "cell_type": "code",
   "execution_count": null,
   "id": "2af8fc63-d2e7-43e3-8f44-d6cdd14a33d3",
   "metadata": {},
   "outputs": [],
   "source": [
    "# Draw keypoints"
   ]
  },
  {
   "cell_type": "code",
   "execution_count": 94,
   "id": "1bf5d9f1-73cd-460c-a566-fc1d09a7554e",
   "metadata": {},
   "outputs": [
    {
     "name": "stdout",
     "output_type": "stream",
     "text": [
      "480 640\n"
     ]
    }
   ],
   "source": [
    "x,y,c = frame.shape\n",
    "print(x,y)"
   ]
  },
  {
   "cell_type": "code",
   "execution_count": 128,
   "id": "524b2155-fbf7-4f7c-b966-154b14553b8e",
   "metadata": {},
   "outputs": [],
   "source": [
    "def detect_keypoints(frame,points,confidence_threshold):\n",
    "    y,x,c = frame.shape\n",
    "    regularized_keypoints = np.squeeze(np.multiply(points,[y,x,1]))\n",
    "    for kp in regularized_keypoints:\n",
    "        kpy,kpx,kpc = kp\n",
    "        if kpc > confidence_threshold:\n",
    "            cv.circle(frame,(int(kpx),int(kpy)),4,(0,255,0),-1)"
   ]
  },
  {
   "cell_type": "markdown",
   "id": "f4626e60-2926-4b78-a980-794e281f017b",
   "metadata": {},
   "source": [
    "# testing "
   ]
  },
  {
   "cell_type": "code",
   "execution_count": 130,
   "id": "85ad37a0-fa41-47cf-87ec-83a30b2a2431",
   "metadata": {},
   "outputs": [],
   "source": [
    "batched_image = tf.image.resize_with_pad(tf.expand_dims(frame,axis=0),192,192)\n",
    "squuezed_image = np.squeeze(batched_image)\n",
    "\n",
    "batched_image = tf.cast(batched_image,tf.float32)\n",
    "input_details = interpreter.get_input_details()\n",
    "output_details = interpreter.get_output_details()\n",
    "\n",
    "interpreter.set_tensor(input_details[0]['index'], batched_image.numpy())\n",
    "interpreter.invoke()\n",
    "keypoints_with_scores = interpreter.get_tensor(output_details[0]['index'])"
   ]
  },
  {
   "cell_type": "code",
   "execution_count": 79,
   "id": "ba07ee8e-ec46-4052-b1fe-8707da993ddb",
   "metadata": {},
   "outputs": [
    {
     "data": {
      "text/plain": [
       "array([271.34519577, 342.46086121,   0.62687969])"
      ]
     },
     "execution_count": 79,
     "metadata": {},
     "output_type": "execute_result"
    }
   ],
   "source": [
    "keypoints_with_scores[0][0][0] * [480,640,1]"
   ]
  },
  {
   "cell_type": "code",
   "execution_count": 107,
   "id": "e2542f75-f6af-4f11-8d81-66db3e71c987",
   "metadata": {},
   "outputs": [
    {
     "data": {
      "text/plain": [
       "(1, 1, 17, 3)"
      ]
     },
     "execution_count": 107,
     "metadata": {},
     "output_type": "execute_result"
    }
   ],
   "source": [
    "keypoints_with_scores.shape"
   ]
  },
  {
   "cell_type": "code",
   "execution_count": 147,
   "id": "1b823c02-c1fd-4565-bdc0-b61235ecef53",
   "metadata": {},
   "outputs": [
    {
     "data": {
      "text/plain": [
       "<matplotlib.image.AxesImage at 0x2141df07c40>"
      ]
     },
     "execution_count": 147,
     "metadata": {},
     "output_type": "execute_result"
    },
    {
     "data": {
      "image/png": "[encoded data removed]",
      "text/plain": [
       "<Figure size 640x480 with 1 Axes>"
      ]
     },
     "metadata": {},
     "output_type": "display_data"
    }
   ],
   "source": [
    "# image = frame.copy()\n",
    "image = np.zeros(frame.shape)\n",
    "draw_keypoints_connections(image,keypoints_with_scores,EDGES,0.4)\n",
    "detect_keypoints(image,keypoints_with_scores,0.4)\n",
    "plt.imshow(np.int64(image))"
   ]
  },
  {
   "cell_type": "code",
   "execution_count": 65,
   "id": "14aa054b-ac76-490f-baa6-2149c22c582c",
   "metadata": {},
   "outputs": [
    {
     "name": "stdout",
     "output_type": "stream",
     "text": [
      "[271.39595032 311.47773743   0.59308374]\n",
      "[249.4342804  336.51618958   0.64402527]\n",
      "[251.97927475 281.38542175   0.51657438]\n",
      "[264.72290039 374.72995758   0.68242139]\n",
      "[272.51844406 238.75164032   0.70444417]\n",
      "[362.21740723 463.59962463   0.83551443]\n",
      "[363.18712234 151.12471581   0.85432529]\n",
      "[4.13645611e+02 5.11338272e+02 1.05240159e-02]\n",
      "[4.60351009e+02 5.92644978e+01 6.56719878e-02]\n",
      "[3.64431810e+02 4.05313034e+02 5.85580710e-03]\n",
      "[3.71395855e+02 2.06477051e+02 4.26413491e-03]\n",
      "[4.89893188e+02 4.34056625e+02 6.78300811e-03]\n",
      "[2.21728420e+02 2.15648861e+02 1.70740858e-02]\n",
      "[4.07078705e+02 5.01167984e+02 5.19463699e-03]\n",
      "[3.63206863e+02 1.51761732e+02 2.15368290e-02]\n",
      "[3.63722706e+02 6.33233643e+02 9.54423659e-03]\n",
      "[4.15323000e+02 9.59273529e+01 5.45107340e-03]\n"
     ]
    }
   ],
   "source": [
    "for kp in np.squeeze(np.multiply(keypoints_with_scores,[480,640,1])):\n",
    "    print(kp)"
   ]
  },
  {
   "cell_type": "markdown",
   "id": "549ecea8-3295-4c78-b0d0-c87552aad330",
   "metadata": {},
   "source": [
    "# Draw Edge"
   ]
  },
  {
   "cell_type": "code",
   "execution_count": 100,
   "id": "931b67f4-9c7c-462c-bc3c-28666d1726c0",
   "metadata": {},
   "outputs": [],
   "source": [
    "EDGES = {\n",
    "    (0, 1): 'm',\n",
    "    (0, 2): 'c',\n",
    "    (1, 3): 'm',\n",
    "    (2, 4): 'c',\n",
    "    (0, 5): 'm',\n",
    "    (0, 6): 'c',\n",
    "    (5, 7): 'm',\n",
    "    (7, 9): 'm',\n",
    "    (6, 8): 'c',\n",
    "    (8, 10): 'c',\n",
    "    (5, 6): 'y',\n",
    "    (5, 11): 'm',\n",
    "    (6, 12): 'c',\n",
    "    (11, 12): 'y',\n",
    "    (11, 13): 'm',\n",
    "    (13, 15): 'm',\n",
    "    (12, 14): 'c',\n",
    "    (14, 16): 'c'\n",
    "}"
   ]
  },
  {
   "cell_type": "code",
   "execution_count": 165,
   "id": "082059e3-19b5-4978-bc3d-6dcdaa864091",
   "metadata": {},
   "outputs": [],
   "source": [
    "import random\n",
    "import math\n",
    "def draw_keypoints_connections(frame,keypoints,edges,confidence_threshold):\n",
    "    y,x,c = frame.shape\n",
    "    shaped = np.squeeze(np.multiply(keypoints,[y,x,1]))\n",
    "    for points, color in EDGES.items():\n",
    "        p1,p2 = points\n",
    "        y1,x1,c1 = shaped[p1]\n",
    "        y2,x2,c2 = shaped[p2]\n",
    "\n",
    "        if (c1 > confidence_threshold) & (c2 > confidence_threshold):\n",
    "            cv.line(frame, (int(x1), int(y1)), (int(x2), int(y2)), (math.floor(random.random() * 100),math.floor(random.random() * 160),math.floor(random.random() * 255)), 2)"
   ]
  },
  {
   "cell_type": "code",
   "execution_count": null,
   "id": "d42dfff2-c0d5-42eb-9cca-259130dbea45",
   "metadata": {},
   "outputs": [],
   "source": []
  }
 ],
 "metadata": {
  "kernelspec": {
   "display_name": "Python (tensorflow)",
   "language": "python",
   "name": "tensorflow"
  },
  "language_info": {
   "codemirror_mode": {
    "name": "ipython",
    "version": 3
   },
   "file_extension": ".py",
   "mimetype": "text/x-python",
   "name": "python",
   "nbconvert_exporter": "python",
   "pygments_lexer": "ipython3",
   "version": "3.9.19"
  }
 },
 "nbformat": 4,
 "nbformat_minor": 5
}
